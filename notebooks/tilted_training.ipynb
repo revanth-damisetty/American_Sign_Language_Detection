{
 "cells": [
  {
   "cell_type": "code",
   "execution_count": 2,
   "id": "dae3b6cd",
   "metadata": {},
   "outputs": [],
   "source": [
    "import os\n",
    "import cv2\n",
    "import numpy as np\n",
    "import pandas as pd\n",
    "import mediapipe as mp\n",
    "from sklearn.model_selection import train_test_split\n",
    "from sklearn.preprocessing import LabelEncoder, StandardScaler\n",
    "from tensorflow.keras.models import Sequential\n",
    "from tensorflow.keras.layers import Dense, Dropout\n",
    "from tensorflow.keras.utils import to_categorical\n",
    "import tensorflow as tf\n",
    "import pickle\n",
    "import matplotlib.pyplot as plt"
   ]
  },
  {
   "cell_type": "code",
   "execution_count": 3,
   "id": "66c2c4dc",
   "metadata": {},
   "outputs": [],
   "source": [
    "DATASET_PATH = \"D:/American_Sign_Language/asl_alphabet_train/asl_alphabet_train\"\n",
    "LABELS = sorted(os.listdir(DATASET_PATH))\n",
    "OUTPUT_MODEL = \"sign_model_3dtilt.h5\"\n",
    "AUGMENT_ANGLES_Z = [-15, 15]\n",
    "AUGMENT_ANGLES_3D = [(-15, 0), (15, 0), (0, -15), (0, 15)]  # (x_tilt, y_tilt)"
   ]
  },
  {
   "cell_type": "code",
   "execution_count": 4,
   "id": "c99e3e76",
   "metadata": {},
   "outputs": [],
   "source": [
    "def rotate_landmarks_z(landmarks, angle_degrees):\n",
    "    \"\"\"In-plane (Z-axis) rotation\"\"\"\n",
    "    angle = np.radians(angle_degrees)\n",
    "    cos_a = np.cos(angle)\n",
    "    sin_a = np.sin(angle)\n",
    "    landmarks = np.array(landmarks).reshape(-1, 3)\n",
    "    x, y = landmarks[:, 0], landmarks[:, 1]\n",
    "    cx, cy = np.mean(x), np.mean(y)\n",
    "    x -= cx\n",
    "    y -= cy\n",
    "    x_rot = x * cos_a - y * sin_a\n",
    "    y_rot = x * sin_a + y * cos_a\n",
    "    x_rot += cx\n",
    "    y_rot += cy\n",
    "    landmarks[:, 0] = x_rot\n",
    "    landmarks[:, 1] = y_rot\n",
    "    return landmarks.flatten()\n",
    "\n",
    "def rotate_landmarks_3d(landmarks, angle_x=0, angle_y=0):\n",
    "    \"\"\"Out-of-plane (X, Y axis) rotation\"\"\"\n",
    "    angle_x = np.radians(angle_x)\n",
    "    angle_y = np.radians(angle_y)\n",
    "\n",
    "    Rx = np.array([\n",
    "        [1, 0, 0],\n",
    "        [0, np.cos(angle_x), -np.sin(angle_x)],\n",
    "        [0, np.sin(angle_x), np.cos(angle_x)]\n",
    "    ])\n",
    "    Ry = np.array([\n",
    "        [np.cos(angle_y), 0, np.sin(angle_y)],\n",
    "        [0, 1, 0],\n",
    "        [-np.sin(angle_y), 0, np.cos(angle_y)]\n",
    "    ])\n",
    "    R = Ry @ Rx\n",
    "\n",
    "    landmarks = np.array(landmarks).reshape(-1, 3)\n",
    "    landmarks = landmarks - np.mean(landmarks, axis=0)\n",
    "    rotated = landmarks @ R.T\n",
    "    rotated = rotated + np.mean(landmarks, axis=0)\n",
    "    return rotated.flatten()\n"
   ]
  },
  {
   "cell_type": "code",
   "execution_count": 5,
   "id": "d23a9375",
   "metadata": {},
   "outputs": [
    {
     "name": "stdout",
     "output_type": "stream",
     "text": [
      "📥 Extracting and augmenting landmarks...\n",
      "A: 2193 images processed\n",
      "B: 2210 images processed\n",
      "C: 1991 images processed\n",
      "D: 2463 images processed\n",
      "E: 2310 images processed\n",
      "F: 2882 images processed\n",
      "G: 2442 images processed\n",
      "H: 2394 images processed\n",
      "I: 2386 images processed\n",
      "J: 2582 images processed\n",
      "K: 2702 images processed\n",
      "L: 2527 images processed\n",
      "M: 1591 images processed\n",
      "N: 1298 images processed\n",
      "O: 2271 images processed\n",
      "P: 2043 images processed\n",
      "Q: 2107 images processed\n",
      "R: 2547 images processed\n",
      "S: 2555 images processed\n",
      "T: 2349 images processed\n",
      "U: 2520 images processed\n",
      "V: 2551 images processed\n",
      "W: 2459 images processed\n",
      "X: 2159 images processed\n",
      "Y: 2585 images processed\n",
      "Z: 2352 images processed\n",
      "del: 1708 images processed\n",
      "nothing: 3 images processed\n",
      "space: 1651 images processed\n"
     ]
    }
   ],
   "source": [
    "mp_hands = mp.solutions.hands\n",
    "hands = mp_hands.Hands(static_image_mode=True)\n",
    "data = []\n",
    "\n",
    "print(\"📥 Extracting and augmenting landmarks...\")\n",
    "for label in LABELS:\n",
    "    label_dir = os.path.join(DATASET_PATH, label)\n",
    "    success = 0\n",
    "    for img_file in os.listdir(label_dir):\n",
    "        img_path = os.path.join(label_dir, img_file)\n",
    "        image = cv2.imread(img_path)\n",
    "        if image is None:\n",
    "            continue\n",
    "        result = hands.process(cv2.cvtColor(image, cv2.COLOR_BGR2RGB))\n",
    "        if result.multi_hand_landmarks:\n",
    "            hand = result.multi_hand_landmarks[0]\n",
    "            landmarks = []\n",
    "            for lm in hand.landmark:\n",
    "                landmarks.extend([lm.x, lm.y, lm.z])\n",
    "\n",
    "            # Add original\n",
    "            data.append(landmarks + [label])\n",
    "\n",
    "            # Add Z-rotated\n",
    "            for angle in AUGMENT_ANGLES_Z:\n",
    "                rotated_z = rotate_landmarks_z(landmarks, angle)\n",
    "                data.append(list(rotated_z) + [label])\n",
    "\n",
    "            # Add 3D rotated\n",
    "            for angle_x, angle_y in AUGMENT_ANGLES_3D:\n",
    "                rotated_3d = rotate_landmarks_3d(landmarks, angle_x, angle_y)\n",
    "                data.append(list(rotated_3d) + [label])\n",
    "            success += 1\n",
    "    print(f\"{label}: {success} images processed\")\n"
   ]
  },
  {
   "cell_type": "code",
   "execution_count": 6,
   "id": "f3b33e14",
   "metadata": {},
   "outputs": [
    {
     "name": "stdout",
     "output_type": "stream",
     "text": [
      "✅ Augmented dataset saved as 'landmarks_3daug.csv'\n"
     ]
    }
   ],
   "source": [
    "df = pd.DataFrame(data)\n",
    "df.to_csv(\"landmarks_3daug.csv\", index=False)\n",
    "print(\"✅ Augmented dataset saved as 'landmarks_3daug.csv'\")"
   ]
  },
  {
   "cell_type": "code",
   "execution_count": 7,
   "id": "3964fa56",
   "metadata": {},
   "outputs": [
    {
     "name": "stdout",
     "output_type": "stream",
     "text": [
      "⚙️ Preprocessing...\n"
     ]
    }
   ],
   "source": [
    "print(\"⚙️ Preprocessing...\")\n",
    "\n",
    "X = df.iloc[:, :-1].values\n",
    "y = df.iloc[:, -1].values\n",
    "\n",
    "scaler = StandardScaler()\n",
    "X_scaled = scaler.fit_transform(X)\n",
    "\n",
    "le = LabelEncoder()\n",
    "y_encoded = le.fit_transform(y)\n",
    "num_classes = len(le.classes_)\n",
    "\n",
    "X_train, X_test, y_train, y_test = train_test_split(\n",
    "    X_scaled, y_encoded, test_size=0.2, stratify=y_encoded, random_state=42\n",
    ")\n",
    "\n",
    "y_train_oh = to_categorical(y_train, num_classes)\n",
    "y_test_oh = to_categorical(y_test, num_classes)\n"
   ]
  },
  {
   "cell_type": "code",
   "execution_count": 8,
   "id": "0ce0ab8c",
   "metadata": {},
   "outputs": [
    {
     "name": "stdout",
     "output_type": "stream",
     "text": [
      "🧠 Training model...\n"
     ]
    },
    {
     "name": "stderr",
     "output_type": "stream",
     "text": [
      "c:\\Users\\HP\\Desktop\\American_Sign_Language_Detection\\venv\\lib\\site-packages\\keras\\src\\layers\\core\\dense.py:93: UserWarning: Do not pass an `input_shape`/`input_dim` argument to a layer. When using Sequential models, prefer using an `Input(shape)` object as the first layer in the model instead.\n",
      "  super().__init__(activity_regularizer=activity_regularizer, **kwargs)\n"
     ]
    },
    {
     "name": "stdout",
     "output_type": "stream",
     "text": [
      "Epoch 1/30\n",
      "\u001b[1m5027/5027\u001b[0m \u001b[32m━━━━━━━━━━━━━━━━━━━━\u001b[0m\u001b[37m\u001b[0m \u001b[1m23s\u001b[0m 3ms/step - accuracy: 0.7947 - loss: 0.6861 - val_accuracy: 0.9708 - val_loss: 0.0938\n",
      "Epoch 2/30\n",
      "\u001b[1m5027/5027\u001b[0m \u001b[32m━━━━━━━━━━━━━━━━━━━━\u001b[0m\u001b[37m\u001b[0m \u001b[1m14s\u001b[0m 3ms/step - accuracy: 0.9604 - loss: 0.1313 - val_accuracy: 0.9818 - val_loss: 0.0633\n",
      "Epoch 3/30\n",
      "\u001b[1m5027/5027\u001b[0m \u001b[32m━━━━━━━━━━━━━━━━━━━━\u001b[0m\u001b[37m\u001b[0m \u001b[1m14s\u001b[0m 3ms/step - accuracy: 0.9676 - loss: 0.1063 - val_accuracy: 0.9797 - val_loss: 0.0624\n",
      "Epoch 4/30\n",
      "\u001b[1m5027/5027\u001b[0m \u001b[32m━━━━━━━━━━━━━━━━━━━━\u001b[0m\u001b[37m\u001b[0m \u001b[1m14s\u001b[0m 3ms/step - accuracy: 0.9712 - loss: 0.0938 - val_accuracy: 0.9832 - val_loss: 0.0547\n",
      "Epoch 5/30\n",
      "\u001b[1m5027/5027\u001b[0m \u001b[32m━━━━━━━━━━━━━━━━━━━━\u001b[0m\u001b[37m\u001b[0m \u001b[1m14s\u001b[0m 3ms/step - accuracy: 0.9727 - loss: 0.0884 - val_accuracy: 0.9832 - val_loss: 0.0513\n",
      "Epoch 6/30\n",
      "\u001b[1m5027/5027\u001b[0m \u001b[32m━━━━━━━━━━━━━━━━━━━━\u001b[0m\u001b[37m\u001b[0m \u001b[1m13s\u001b[0m 3ms/step - accuracy: 0.9747 - loss: 0.0822 - val_accuracy: 0.9863 - val_loss: 0.0439\n",
      "Epoch 7/30\n",
      "\u001b[1m5027/5027\u001b[0m \u001b[32m━━━━━━━━━━━━━━━━━━━━\u001b[0m\u001b[37m\u001b[0m \u001b[1m13s\u001b[0m 3ms/step - accuracy: 0.9757 - loss: 0.0790 - val_accuracy: 0.9843 - val_loss: 0.0481\n",
      "Epoch 8/30\n",
      "\u001b[1m5027/5027\u001b[0m \u001b[32m━━━━━━━━━━━━━━━━━━━━\u001b[0m\u001b[37m\u001b[0m \u001b[1m13s\u001b[0m 3ms/step - accuracy: 0.9773 - loss: 0.0735 - val_accuracy: 0.9841 - val_loss: 0.0504\n",
      "Epoch 9/30\n",
      "\u001b[1m5027/5027\u001b[0m \u001b[32m━━━━━━━━━━━━━━━━━━━━\u001b[0m\u001b[37m\u001b[0m \u001b[1m13s\u001b[0m 3ms/step - accuracy: 0.9776 - loss: 0.0721 - val_accuracy: 0.9878 - val_loss: 0.0387\n",
      "Epoch 10/30\n",
      "\u001b[1m5027/5027\u001b[0m \u001b[32m━━━━━━━━━━━━━━━━━━━━\u001b[0m\u001b[37m\u001b[0m \u001b[1m13s\u001b[0m 3ms/step - accuracy: 0.9786 - loss: 0.0692 - val_accuracy: 0.9883 - val_loss: 0.0367\n",
      "Epoch 11/30\n",
      "\u001b[1m5027/5027\u001b[0m \u001b[32m━━━━━━━━━━━━━━━━━━━━\u001b[0m\u001b[37m\u001b[0m \u001b[1m13s\u001b[0m 3ms/step - accuracy: 0.9792 - loss: 0.0680 - val_accuracy: 0.9867 - val_loss: 0.0405\n",
      "Epoch 12/30\n",
      "\u001b[1m5027/5027\u001b[0m \u001b[32m━━━━━━━━━━━━━━━━━━━━\u001b[0m\u001b[37m\u001b[0m \u001b[1m15s\u001b[0m 3ms/step - accuracy: 0.9796 - loss: 0.0656 - val_accuracy: 0.9868 - val_loss: 0.0403\n",
      "Epoch 13/30\n",
      "\u001b[1m5027/5027\u001b[0m \u001b[32m━━━━━━━━━━━━━━━━━━━━\u001b[0m\u001b[37m\u001b[0m \u001b[1m13s\u001b[0m 3ms/step - accuracy: 0.9799 - loss: 0.0653 - val_accuracy: 0.9896 - val_loss: 0.0323\n",
      "Epoch 14/30\n",
      "\u001b[1m5027/5027\u001b[0m \u001b[32m━━━━━━━━━━━━━━━━━━━━\u001b[0m\u001b[37m\u001b[0m \u001b[1m14s\u001b[0m 3ms/step - accuracy: 0.9807 - loss: 0.0626 - val_accuracy: 0.9882 - val_loss: 0.0364\n",
      "Epoch 15/30\n",
      "\u001b[1m5027/5027\u001b[0m \u001b[32m━━━━━━━━━━━━━━━━━━━━\u001b[0m\u001b[37m\u001b[0m \u001b[1m13s\u001b[0m 3ms/step - accuracy: 0.9802 - loss: 0.0628 - val_accuracy: 0.9895 - val_loss: 0.0321\n",
      "Epoch 16/30\n",
      "\u001b[1m5027/5027\u001b[0m \u001b[32m━━━━━━━━━━━━━━━━━━━━\u001b[0m\u001b[37m\u001b[0m \u001b[1m13s\u001b[0m 3ms/step - accuracy: 0.9811 - loss: 0.0608 - val_accuracy: 0.9915 - val_loss: 0.0269\n",
      "Epoch 17/30\n",
      "\u001b[1m5027/5027\u001b[0m \u001b[32m━━━━━━━━━━━━━━━━━━━━\u001b[0m\u001b[37m\u001b[0m \u001b[1m14s\u001b[0m 3ms/step - accuracy: 0.9816 - loss: 0.0595 - val_accuracy: 0.9892 - val_loss: 0.0321\n",
      "Epoch 18/30\n",
      "\u001b[1m5027/5027\u001b[0m \u001b[32m━━━━━━━━━━━━━━━━━━━━\u001b[0m\u001b[37m\u001b[0m \u001b[1m13s\u001b[0m 3ms/step - accuracy: 0.9817 - loss: 0.0592 - val_accuracy: 0.9900 - val_loss: 0.0294\n",
      "Epoch 19/30\n",
      "\u001b[1m5027/5027\u001b[0m \u001b[32m━━━━━━━━━━━━━━━━━━━━\u001b[0m\u001b[37m\u001b[0m \u001b[1m13s\u001b[0m 3ms/step - accuracy: 0.9821 - loss: 0.0581 - val_accuracy: 0.9891 - val_loss: 0.0330\n",
      "Epoch 20/30\n",
      "\u001b[1m5027/5027\u001b[0m \u001b[32m━━━━━━━━━━━━━━━━━━━━\u001b[0m\u001b[37m\u001b[0m \u001b[1m13s\u001b[0m 3ms/step - accuracy: 0.9819 - loss: 0.0584 - val_accuracy: 0.9918 - val_loss: 0.0261\n",
      "Epoch 21/30\n",
      "\u001b[1m5027/5027\u001b[0m \u001b[32m━━━━━━━━━━━━━━━━━━━━\u001b[0m\u001b[37m\u001b[0m \u001b[1m16s\u001b[0m 3ms/step - accuracy: 0.9824 - loss: 0.0576 - val_accuracy: 0.9909 - val_loss: 0.0276\n",
      "Epoch 22/30\n",
      "\u001b[1m5027/5027\u001b[0m \u001b[32m━━━━━━━━━━━━━━━━━━━━\u001b[0m\u001b[37m\u001b[0m \u001b[1m16s\u001b[0m 3ms/step - accuracy: 0.9828 - loss: 0.0554 - val_accuracy: 0.9913 - val_loss: 0.0272\n",
      "Epoch 23/30\n",
      "\u001b[1m5027/5027\u001b[0m \u001b[32m━━━━━━━━━━━━━━━━━━━━\u001b[0m\u001b[37m\u001b[0m \u001b[1m17s\u001b[0m 3ms/step - accuracy: 0.9832 - loss: 0.0548 - val_accuracy: 0.9918 - val_loss: 0.0267\n",
      "Epoch 24/30\n",
      "\u001b[1m5027/5027\u001b[0m \u001b[32m━━━━━━━━━━━━━━━━━━━━\u001b[0m\u001b[37m\u001b[0m \u001b[1m17s\u001b[0m 3ms/step - accuracy: 0.9839 - loss: 0.0529 - val_accuracy: 0.9907 - val_loss: 0.0286\n",
      "Epoch 25/30\n",
      "\u001b[1m5027/5027\u001b[0m \u001b[32m━━━━━━━━━━━━━━━━━━━━\u001b[0m\u001b[37m\u001b[0m \u001b[1m16s\u001b[0m 3ms/step - accuracy: 0.9834 - loss: 0.0552 - val_accuracy: 0.9905 - val_loss: 0.0283\n",
      "Epoch 26/30\n",
      "\u001b[1m5027/5027\u001b[0m \u001b[32m━━━━━━━━━━━━━━━━━━━━\u001b[0m\u001b[37m\u001b[0m \u001b[1m16s\u001b[0m 3ms/step - accuracy: 0.9839 - loss: 0.0525 - val_accuracy: 0.9919 - val_loss: 0.0254\n",
      "Epoch 27/30\n",
      "\u001b[1m5027/5027\u001b[0m \u001b[32m━━━━━━━━━━━━━━━━━━━━\u001b[0m\u001b[37m\u001b[0m \u001b[1m16s\u001b[0m 3ms/step - accuracy: 0.9840 - loss: 0.0524 - val_accuracy: 0.9903 - val_loss: 0.0303\n",
      "Epoch 28/30\n",
      "\u001b[1m5027/5027\u001b[0m \u001b[32m━━━━━━━━━━━━━━━━━━━━\u001b[0m\u001b[37m\u001b[0m \u001b[1m15s\u001b[0m 3ms/step - accuracy: 0.9840 - loss: 0.0518 - val_accuracy: 0.9927 - val_loss: 0.0242\n",
      "Epoch 29/30\n",
      "\u001b[1m5027/5027\u001b[0m \u001b[32m━━━━━━━━━━━━━━━━━━━━\u001b[0m\u001b[37m\u001b[0m \u001b[1m15s\u001b[0m 3ms/step - accuracy: 0.9840 - loss: 0.0509 - val_accuracy: 0.9907 - val_loss: 0.0275\n",
      "Epoch 30/30\n",
      "\u001b[1m5027/5027\u001b[0m \u001b[32m━━━━━━━━━━━━━━━━━━━━\u001b[0m\u001b[37m\u001b[0m \u001b[1m16s\u001b[0m 3ms/step - accuracy: 0.9844 - loss: 0.0518 - val_accuracy: 0.9918 - val_loss: 0.0249\n"
     ]
    }
   ],
   "source": [
    "print(\"🧠 Training model...\")\n",
    "\n",
    "model = Sequential([\n",
    "    Dense(256, activation='relu', input_shape=(X.shape[1],)),\n",
    "    Dropout(0.3),\n",
    "    Dense(128, activation='relu'),\n",
    "    Dropout(0.3),\n",
    "    Dense(64, activation='relu'),\n",
    "    Dense(num_classes, activation='softmax')\n",
    "])\n",
    "\n",
    "model.compile(optimizer='adam', loss='categorical_crossentropy', metrics=['accuracy'])\n",
    "\n",
    "history = model.fit(\n",
    "    X_train, y_train_oh,\n",
    "    validation_split=0.1,\n",
    "    epochs=30,\n",
    "    batch_size=64,\n",
    "    verbose=1\n",
    ")\n"
   ]
  },
  {
   "cell_type": "code",
   "execution_count": 9,
   "id": "6ad07f21",
   "metadata": {},
   "outputs": [
    {
     "name": "stdout",
     "output_type": "stream",
     "text": [
      "\n",
      "✅ Test Accuracy: 0.9916\n"
     ]
    }
   ],
   "source": [
    "test_loss, test_acc = model.evaluate(X_test, y_test_oh, verbose=0)\n",
    "print(f\"\\n✅ Test Accuracy: {test_acc:.4f}\")"
   ]
  },
  {
   "cell_type": "code",
   "execution_count": 10,
   "id": "930a6238",
   "metadata": {},
   "outputs": [
    {
     "name": "stderr",
     "output_type": "stream",
     "text": [
      "WARNING:absl:You are saving your model as an HDF5 file via `model.save()` or `keras.saving.save_model(model)`. This file format is considered legacy. We recommend using instead the native Keras format, e.g. `model.save('my_model.keras')` or `keras.saving.save_model(model, 'my_model.keras')`. \n"
     ]
    },
    {
     "name": "stdout",
     "output_type": "stream",
     "text": [
      "💾 Model + scaler + encoder saved.\n"
     ]
    }
   ],
   "source": [
    "model.save(OUTPUT_MODEL)\n",
    "with open(\"label_encoder.pkl\", \"wb\") as f:\n",
    "    pickle.dump(le, f)\n",
    "with open(\"scaler.pkl\", \"wb\") as f:\n",
    "    pickle.dump(scaler, f)\n",
    "print(\"💾 Model + scaler + encoder saved.\")"
   ]
  },
  {
   "cell_type": "code",
   "execution_count": 11,
   "id": "7f89fe25",
   "metadata": {},
   "outputs": [
    {
     "data": {
      "image/png": "[encoded data removed]",
      "text/plain": [
       "<Figure size 640x480 with 1 Axes>"
      ]
     },
     "metadata": {},
     "output_type": "display_data"
    }
   ],
   "source": [
    "plt.plot(history.history['accuracy'], label='Train')\n",
    "plt.plot(history.history['val_accuracy'], label='Validation')\n",
    "plt.title(\"Accuracy with 3D Tilt Augmentation\")\n",
    "plt.xlabel(\"Epoch\")\n",
    "plt.ylabel(\"Accuracy\")\n",
    "plt.legend()\n",
    "plt.grid(True)\n",
    "plt.tight_layout()\n",
    "plt.show()"
   ]
  }
 ],
 "metadata": {
  "kernelspec": {
   "display_name": "venv",
   "language": "python",
   "name": "python3"
  },
  "language_info": {
   "codemirror_mode": {
    "name": "ipython",
    "version": 3
   },
   "file_extension": ".py",
   "mimetype": "text/x-python",
   "name": "python",
   "nbconvert_exporter": "python",
   "pygments_lexer": "ipython3",
   "version": "3.10.0"
  }
 },
 "nbformat": 4,
 "nbformat_minor": 5
}
